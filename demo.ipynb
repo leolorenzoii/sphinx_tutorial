{
 "cells": [
  {
   "cell_type": "markdown",
   "id": "35e20346-70f5-46d8-87de-dab45ab6d4a1",
   "metadata": {},
   "source": [
    "# The Bicycle Package"
   ]
  },
  {
   "cell_type": "markdown",
   "id": "bb5da80b-b749-423a-b279-e6dfba8e2c2a",
   "metadata": {},
   "source": [
    "```\n",
    "bicycle/\n",
    "      __init__.py               \n",
    "      frame.py\n",
    "      saddle.py\n",
    "      wheel.py\n",
    "              roll()\n",
    "      front/\n",
    "              __init__.py\n",
    "              handle_bar.py\n",
    "                    turn()\n",
    "```"
   ]
  },
  {
   "cell_type": "code",
   "execution_count": null,
   "id": "eb0bdba5-1325-4dce-9474-08902b1dc1c2",
   "metadata": {},
   "outputs": [],
   "source": []
  }
 ],
 "metadata": {
  "kernelspec": {
   "display_name": "Python 3",
   "language": "python",
   "name": "python3"
  },
  "language_info": {
   "codemirror_mode": {
    "name": "ipython",
    "version": 3
   },
   "file_extension": ".py",
   "mimetype": "text/x-python",
   "name": "python",
   "nbconvert_exporter": "python",
   "pygments_lexer": "ipython3",
   "version": "3.8.8"
  }
 },
 "nbformat": 4,
 "nbformat_minor": 5
}
