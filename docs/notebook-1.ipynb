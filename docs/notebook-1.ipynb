{
 "cells": [
  {
   "cell_type": "code",
   "execution_count": 1,
   "id": "adult-paste",
   "metadata": {
    "ExecuteTime": {
     "end_time": "2021-05-20T05:25:47.152121Z",
     "start_time": "2021-05-20T05:25:46.435697Z"
    }
   },
   "outputs": [],
   "source": [
    "import numpy as np\n",
    "import pandas as pd\n",
    "import matplotlib.pyplot as plt"
   ]
  },
  {
   "cell_type": "markdown",
   "id": "civil-ottawa",
   "metadata": {},
   "source": [
    "# Notebook Example 1"
   ]
  },
  {
   "cell_type": "markdown",
   "id": "joint-museum",
   "metadata": {},
   "source": [
    "This is how we notebook!"
   ]
  },
  {
   "cell_type": "markdown",
   "id": "complimentary-venture",
   "metadata": {},
   "source": [
    "## Equations"
   ]
  },
  {
   "cell_type": "markdown",
   "id": "scenic-shore",
   "metadata": {},
   "source": [
    "The equations to be\n",
    "\n",
    "$$\n",
    "F = ma \\tag{1} \\label{force}\n",
    "$$\n",
    "\n",
    "The Force Equation \\ref{force}."
   ]
  },
  {
   "cell_type": "markdown",
   "id": "victorian-granny",
   "metadata": {},
   "source": [
    "## Warning Boxes"
   ]
  },
  {
   "cell_type": "markdown",
   "id": "opponent-jewelry",
   "metadata": {},
   "source": [
    "<div class=\"alert alert-info\">\n",
    "\n",
    "**Note: This is the note title**\n",
    "\n",
    "The Notes to be\n",
    "\n",
    "</div>"
   ]
  },
  {
   "cell_type": "markdown",
   "id": "elder-klein",
   "metadata": {},
   "source": [
    "<div class=\"alert alert-warning\">\n",
    "    \n",
    "**Warning: The warning title**\n",
    "    \n",
    "The warning to be\n",
    "    \n",
    "</div>"
   ]
  },
  {
   "cell_type": "markdown",
   "id": "danish-donna",
   "metadata": {},
   "source": [
    "Go back to home\n",
    "\n",
    "[Home](index.rst)"
   ]
  },
  {
   "cell_type": "markdown",
   "id": "enclosed-actor",
   "metadata": {},
   "source": [
    "## Python Cells"
   ]
  },
  {
   "cell_type": "code",
   "execution_count": 2,
   "id": "dependent-lightning",
   "metadata": {
    "ExecuteTime": {
     "end_time": "2021-05-20T05:25:47.157340Z",
     "start_time": "2021-05-20T05:25:47.154135Z"
    }
   },
   "outputs": [],
   "source": [
    "x = np.linspace(1, 10, 100)\n",
    "y = x**2"
   ]
  },
  {
   "cell_type": "code",
   "execution_count": 3,
   "id": "stone-speaker",
   "metadata": {
    "ExecuteTime": {
     "end_time": "2021-05-20T05:25:47.310796Z",
     "start_time": "2021-05-20T05:25:47.159344Z"
    },
    "scrolled": true
   },
   "outputs": [
    {
     "data": {
      "image/png": "[encoded data removed]",
      "text/plain": [
       "<Figure size 432x288 with 1 Axes>"
      ]
     },
     "metadata": {
      "needs_background": "light"
     },
     "output_type": "display_data"
    }
   ],
   "source": [
    "plt.plot(x, y);"
   ]
  },
  {
   "cell_type": "code",
   "execution_count": 4,
   "id": "private-world",
   "metadata": {
    "ExecuteTime": {
     "end_time": "2021-05-20T05:25:47.719133Z",
     "start_time": "2021-05-20T05:25:47.312552Z"
    }
   },
   "outputs": [],
   "source": [
    "import seaborn as sns"
   ]
  },
  {
   "cell_type": "code",
   "execution_count": 5,
   "id": "political-marriage",
   "metadata": {
    "ExecuteTime": {
     "end_time": "2021-05-20T05:25:47.724344Z",
     "start_time": "2021-05-20T05:25:47.721003Z"
    }
   },
   "outputs": [
    {
     "name": "stdout",
     "output_type": "stream",
     "text": [
      "Try me!\n"
     ]
    }
   ],
   "source": [
    "try:\n",
    "    print(\"Try me!\")\n",
    "except:\n",
    "    print(\"Except me!\")"
   ]
  },
  {
   "cell_type": "markdown",
   "id": "aware-colony",
   "metadata": {},
   "source": [
    "## Citations"
   ]
  },
  {
   "cell_type": "markdown",
   "id": "hourly-referral",
   "metadata": {
    "ExecuteTime": {
     "end_time": "2021-05-20T06:17:30.743389Z",
     "start_time": "2021-05-20T06:17:30.739846Z"
    }
   },
   "source": [
    "This is how to cite aggarwal! <cite data-cite=\"aggarwal2015data\">Aggarwal 4ever</cite>"
   ]
  }
 ],
 "metadata": {
  "celltoolbar": "Raw Cell Format",
  "kernelspec": {
   "display_name": "Python 3",
   "language": "python",
   "name": "python3"
  },
  "language_info": {
   "codemirror_mode": {
    "name": "ipython",
    "version": 3
   },
   "file_extension": ".py",
   "mimetype": "text/x-python",
   "name": "python",
   "nbconvert_exporter": "python",
   "pygments_lexer": "ipython3",
   "version": "3.8.8"
  }
 },
 "nbformat": 4,
 "nbformat_minor": 5
}
